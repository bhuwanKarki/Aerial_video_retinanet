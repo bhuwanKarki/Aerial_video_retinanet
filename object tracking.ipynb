{
 "cells": [
  {
   "cell_type": "code",
   "execution_count": 6,
   "metadata": {
    "ExecuteTime": {
     "end_time": "2020-01-26T15:13:44.699521Z",
     "start_time": "2020-01-26T15:13:43.890774Z"
    }
   },
   "outputs": [
    {
     "name": "stderr",
     "output_type": "stream",
     "text": [
      "/home/bhuwan/anaconda3/envs/torch/lib/python3.7/site-packages/tensorflow/python/framework/dtypes.py:516: FutureWarning: Passing (type, 1) or '1type' as a synonym of type is deprecated; in a future version of numpy, it will be understood as (type, (1,)) / '(1,)type'.\n",
      "  _np_qint8 = np.dtype([(\"qint8\", np.int8, 1)])\n",
      "/home/bhuwan/anaconda3/envs/torch/lib/python3.7/site-packages/tensorflow/python/framework/dtypes.py:517: FutureWarning: Passing (type, 1) or '1type' as a synonym of type is deprecated; in a future version of numpy, it will be understood as (type, (1,)) / '(1,)type'.\n",
      "  _np_quint8 = np.dtype([(\"quint8\", np.uint8, 1)])\n",
      "/home/bhuwan/anaconda3/envs/torch/lib/python3.7/site-packages/tensorflow/python/framework/dtypes.py:518: FutureWarning: Passing (type, 1) or '1type' as a synonym of type is deprecated; in a future version of numpy, it will be understood as (type, (1,)) / '(1,)type'.\n",
      "  _np_qint16 = np.dtype([(\"qint16\", np.int16, 1)])\n",
      "/home/bhuwan/anaconda3/envs/torch/lib/python3.7/site-packages/tensorflow/python/framework/dtypes.py:519: FutureWarning: Passing (type, 1) or '1type' as a synonym of type is deprecated; in a future version of numpy, it will be understood as (type, (1,)) / '(1,)type'.\n",
      "  _np_quint16 = np.dtype([(\"quint16\", np.uint16, 1)])\n",
      "/home/bhuwan/anaconda3/envs/torch/lib/python3.7/site-packages/tensorflow/python/framework/dtypes.py:520: FutureWarning: Passing (type, 1) or '1type' as a synonym of type is deprecated; in a future version of numpy, it will be understood as (type, (1,)) / '(1,)type'.\n",
      "  _np_qint32 = np.dtype([(\"qint32\", np.int32, 1)])\n",
      "/home/bhuwan/anaconda3/envs/torch/lib/python3.7/site-packages/tensorflow/python/framework/dtypes.py:525: FutureWarning: Passing (type, 1) or '1type' as a synonym of type is deprecated; in a future version of numpy, it will be understood as (type, (1,)) / '(1,)type'.\n",
      "  np_resource = np.dtype([(\"resource\", np.ubyte, 1)])\n",
      "/home/bhuwan/anaconda3/envs/torch/lib/python3.7/site-packages/tensorboard/compat/tensorflow_stub/dtypes.py:541: FutureWarning: Passing (type, 1) or '1type' as a synonym of type is deprecated; in a future version of numpy, it will be understood as (type, (1,)) / '(1,)type'.\n",
      "  _np_qint8 = np.dtype([(\"qint8\", np.int8, 1)])\n",
      "/home/bhuwan/anaconda3/envs/torch/lib/python3.7/site-packages/tensorboard/compat/tensorflow_stub/dtypes.py:542: FutureWarning: Passing (type, 1) or '1type' as a synonym of type is deprecated; in a future version of numpy, it will be understood as (type, (1,)) / '(1,)type'.\n",
      "  _np_quint8 = np.dtype([(\"quint8\", np.uint8, 1)])\n",
      "/home/bhuwan/anaconda3/envs/torch/lib/python3.7/site-packages/tensorboard/compat/tensorflow_stub/dtypes.py:543: FutureWarning: Passing (type, 1) or '1type' as a synonym of type is deprecated; in a future version of numpy, it will be understood as (type, (1,)) / '(1,)type'.\n",
      "  _np_qint16 = np.dtype([(\"qint16\", np.int16, 1)])\n",
      "/home/bhuwan/anaconda3/envs/torch/lib/python3.7/site-packages/tensorboard/compat/tensorflow_stub/dtypes.py:544: FutureWarning: Passing (type, 1) or '1type' as a synonym of type is deprecated; in a future version of numpy, it will be understood as (type, (1,)) / '(1,)type'.\n",
      "  _np_quint16 = np.dtype([(\"quint16\", np.uint16, 1)])\n",
      "/home/bhuwan/anaconda3/envs/torch/lib/python3.7/site-packages/tensorboard/compat/tensorflow_stub/dtypes.py:545: FutureWarning: Passing (type, 1) or '1type' as a synonym of type is deprecated; in a future version of numpy, it will be understood as (type, (1,)) / '(1,)type'.\n",
      "  _np_qint32 = np.dtype([(\"qint32\", np.int32, 1)])\n",
      "/home/bhuwan/anaconda3/envs/torch/lib/python3.7/site-packages/tensorboard/compat/tensorflow_stub/dtypes.py:550: FutureWarning: Passing (type, 1) or '1type' as a synonym of type is deprecated; in a future version of numpy, it will be understood as (type, (1,)) / '(1,)type'.\n",
      "  np_resource = np.dtype([(\"resource\", np.ubyte, 1)])\n"
     ]
    },
    {
     "ename": "ModuleNotFoundError",
     "evalue": "No module named 'deep_sort.detection'",
     "output_type": "error",
     "traceback": [
      "\u001b[0;31m---------------------------------------------------------------------------\u001b[0m",
      "\u001b[0;31mModuleNotFoundError\u001b[0m                       Traceback (most recent call last)",
      "\u001b[0;32m<ipython-input-6-222d505b9787>\u001b[0m in \u001b[0;36m<module>\u001b[0;34m\u001b[0m\n\u001b[1;32m     14\u001b[0m \u001b[0;32mfrom\u001b[0m \u001b[0mkeras_retinanet\u001b[0m \u001b[0;32mimport\u001b[0m \u001b[0mmodels\u001b[0m\u001b[0;34m\u001b[0m\u001b[0;34m\u001b[0m\u001b[0m\n\u001b[1;32m     15\u001b[0m \u001b[0;32mfrom\u001b[0m \u001b[0mkeras_retinanet\u001b[0m\u001b[0;34m.\u001b[0m\u001b[0mutils\u001b[0m\u001b[0;34m.\u001b[0m\u001b[0mimage\u001b[0m \u001b[0;32mimport\u001b[0m \u001b[0mread_image_bgr\u001b[0m\u001b[0;34m,\u001b[0m \u001b[0mpreprocess_image\u001b[0m\u001b[0;34m,\u001b[0m\u001b[0mresize_image\u001b[0m\u001b[0;34m\u001b[0m\u001b[0;34m\u001b[0m\u001b[0m\n\u001b[0;32m---> 16\u001b[0;31m \u001b[0;32mfrom\u001b[0m \u001b[0mdeep_sort\u001b[0m\u001b[0;34m.\u001b[0m\u001b[0mdetection\u001b[0m \u001b[0;32mimport\u001b[0m \u001b[0mDetection\u001b[0m \u001b[0;32mas\u001b[0m \u001b[0mddet\u001b[0m\u001b[0;34m\u001b[0m\u001b[0;34m\u001b[0m\u001b[0m\n\u001b[0m\u001b[1;32m     17\u001b[0m \u001b[0mwarnings\u001b[0m\u001b[0;34m.\u001b[0m\u001b[0mfilterwarnings\u001b[0m\u001b[0;34m(\u001b[0m\u001b[0;34m'ignore'\u001b[0m\u001b[0;34m)\u001b[0m\u001b[0;34m\u001b[0m\u001b[0;34m\u001b[0m\u001b[0m\n",
      "\u001b[0;31mModuleNotFoundError\u001b[0m: No module named 'deep_sort.detection'"
     ]
    }
   ],
   "source": [
    "\n",
    "import os\n",
    "from timeit import time\n",
    "import warnings\n",
    "import sys\n",
    "import cv2\n",
    "import numpy as np\n",
    "from PIL import Image\n",
    "\n",
    "from deep_sort.application_util import preprocessing\n",
    "from deep_sort.deep_sort import nn_matching\n",
    "from deep_sort.deep_sort.detection import Detection\n",
    "from deep_sort.deep_sort.tracker import Tracker\n",
    "from deep_sort.tools import generate_detections as gdet\n",
    "from keras_retinanet import models\n",
    "from keras_retinanet.utils.image import read_image_bgr, preprocess_image,resize_image\n",
    "from deep_sort.detection import Detection as ddet\n",
    "warnings.filterwarnings('ignore')\n"
   ]
  },
  {
   "cell_type": "code",
   "execution_count": null,
   "metadata": {
    "ExecuteTime": {
     "start_time": "2020-02-20T15:43:24.210Z"
    }
   },
   "outputs": [],
   "source": [
    "\n",
    "def pedestrian_tracking(model):\n",
    "\n",
    "   # Definition of the parameters\n",
    "    max_cosine_distance = 0.3\n",
    "    nn_budget = None\n",
    "    nms_max_overlap = 1.0\n",
    "    \n",
    "   # deep_sort \n",
    "    model_filename = 'mars-small128.pb'\n",
    "    encoder = gdet.create_box_encoder(model_filename,batch_size=1)\n",
    "    \n",
    "    metric = nn_matching.NearestNeighborDistanceMetric(\"cosine\", max_cosine_distance, nn_budget)\n",
    "    tracker = Tracker(metric)\n",
    "\n",
    "    writeVideo_flag = True \n",
    "    \n",
    "    video_capture = cv2.VideoCapture('/home/bhuwan/Downloads/Tuomiokirkko.mp4')\n",
    "   \n",
    "    labels_to_names = {0: 'person'}\n",
    "\n",
    "    if writeVideo_flag:\n",
    "    # Define the codec and create VideoWriter object\n",
    "        w = int(video_capture.get(3))\n",
    "        h = int(video_capture.get(4))\n",
    "        fourcc = cv2.VideoWriter_fourcc(*'MJPG')\n",
    "        out = cv2.VideoWriter('num8_2_v6.mp4', fourcc, 30, (w, h))\n",
    "        list_file = open('detection.txt', 'w')\n",
    "        frame_index = -1 \n",
    "        \n",
    "    fps = 0.0\n",
    "    i=0;\n",
    "    while True:\n",
    "        ret, frame = video_capture.read()  \n",
    "        if ret != True:\n",
    "            break;\n",
    "        t1 = time.time()\n",
    "        \n",
    "        image = preprocess_image(frame)\n",
    "        boxes, scores, labels = model.predict_on_batch(np.expand_dims(image,axis=0))\n",
    "        i = 0\n",
    "        box_tmp = []\n",
    "        for box,label,score in zip(boxes[0], labels[0], scores[0]):\n",
    "            if np.array(score) < 0.15:\n",
    "                break\n",
    "            \n",
    "            box_tmp.append((box[0:2]).tolist()+(box[2:4]-box[0:2]).tolist())\n",
    "            i += 1\n",
    "        # box_tmp = boxes[0][0:i]\n",
    "\n",
    "        # box_tmp = box_tmp.tolist()\n",
    "       # print(\"box_num\",len(boxs))\n",
    "        features = encoder(frame,box_tmp)\n",
    "        \n",
    "        # score to 1.0 here).\n",
    "        detections = [Detection(bbox, 1.0, feature) for bbox, feature in zip(box_tmp, features)]\n",
    "        \n",
    "        # Run non-maxima suppression.\n",
    "        boxes = np.array([d.tlwh for d in detections])\n",
    "        scores = np.array([d.confidence for d in detections])\n",
    "        indices = preprocessing.non_max_suppression(np.array(box_tmp), nms_max_overlap, scores)\n",
    "        detections = [detections[i] for i in indices]\n",
    "        # print(\"indices:\",indices)\n",
    "        # print(\"detection: \",detections[indices[0]]);\n",
    "        # Call the tracker\n",
    "        tracker.predict()\n",
    "        tracker.update(detections)\n",
    "        \n",
    "        fps  = ( fps + (1./(time.time()-t1)) ) / 2\n",
    "        #print(\"fps= %f\"%(fps))  \n",
    "\n",
    "        for track in tracker.tracks:\n",
    "            if not track.is_confirmed() or track.time_since_update > 1:\n",
    "                continue \n",
    "            bbox = track.to_tlbr()\n",
    "            cv2.rectangle(frame, (int(bbox[0]), int(bbox[1])), (int(bbox[2]), int(bbox[3])),(255,255,255), 2)\n",
    "            cv2.putText(frame, str(track.track_id),(int(bbox[0]), int(bbox[1])),0, 5e-3 * 200, (0,255,0),2)\n",
    "\n",
    "\n",
    "        for j,det in enumerate(detections):\n",
    "            bbox = det.to_tlbr()\n",
    "            cv2.rectangle(frame,(int(bbox[0]), int(bbox[1])), (int(bbox[2]), int(bbox[3])),(255,0,0), 2)\n",
    "            # cv2.putText(frame,str(labels_to_names[j]),(int(bbox[0]),int(bbox[1])-35),0,5e-3*200,(143,17,86),2)\n",
    "        cv2.namedWindow(\"track result\", 0)\n",
    "        cv2.resizeWindow(\"track result\", 1280, 720)  \n",
    "        cv2.imshow('track result', frame)\n",
    "        \n",
    "        if writeVideo_flag:\n",
    "            # save a frame\n",
    "            out.write(frame)\n",
    "            frame_index = frame_index + 1\n",
    "            list_file.write(str(frame_index)+' ')\n",
    "            if len(boxes) != 0:\n",
    "                for i in range(0,len(boxes)):\n",
    "                    list_file.write(str(boxes[i][0]) + ' '+str(boxes[i][1]) + ' '+str(boxes[i][2]) + ' '+str(boxes[i][3]) + ' ')\n",
    "            list_file.write('\\n')\n",
    "            \n",
    "       \n",
    "        \n",
    "        # Press Q to stop!\n",
    "        if cv2.waitKey(1) & 0xFF == ord('q'):\n",
    "            break\n",
    "\n",
    "    video_capture.release()\n",
    "    if writeVideo_flag:\n",
    "        out.release()\n",
    "        list_file.close()\n",
    "    cv2.destroyAllWindows()\n",
    "\n",
    "\n"
   ]
  },
  {
   "cell_type": "code",
   "execution_count": 3,
   "metadata": {
    "ExecuteTime": {
     "end_time": "2020-01-26T15:08:39.509601Z",
     "start_time": "2020-01-26T15:08:24.583794Z"
    }
   },
   "outputs": [
    {
     "name": "stdout",
     "output_type": "stream",
     "text": [
      "tracking <tf.Variable 'Variable:0' shape=(15, 4) dtype=float32> anchors\n",
      "tracking <tf.Variable 'Variable_1:0' shape=(15, 4) dtype=float32> anchors\n",
      "tracking <tf.Variable 'Variable_2:0' shape=(15, 4) dtype=float32> anchors\n",
      "tracking <tf.Variable 'Variable_3:0' shape=(15, 4) dtype=float32> anchors\n",
      "tracking <tf.Variable 'Variable_4:0' shape=(15, 4) dtype=float32> anchors\n",
      "WARNING:tensorflow:From /home/bhuwan/anaconda3/envs/torch/lib/python3.7/site-packages/keras/backend/tensorflow_backend.py:4070: The name tf.nn.max_pool is deprecated. Please use tf.nn.max_pool2d instead.\n",
      "\n"
     ]
    },
    {
     "name": "stderr",
     "output_type": "stream",
     "text": [
      "Using TensorFlow backend.\n"
     ]
    },
    {
     "name": "stdout",
     "output_type": "stream",
     "text": [
      "WARNING:tensorflow:From /home/bhuwan/anaconda3/envs/torch/lib/python3.7/site-packages/keras_retinanet/backend/tensorflow_backend.py:68: The name tf.image.resize_images is deprecated. Please use tf.image.resize instead.\n",
      "\n",
      "WARNING:tensorflow:From /home/bhuwan/anaconda3/envs/torch/lib/python3.7/site-packages/keras_retinanet/backend/tensorflow_backend.py:104: add_dispatch_support.<locals>.wrapper (from tensorflow.python.ops.array_ops) is deprecated and will be removed in a future version.\n",
      "Instructions for updating:\n",
      "Use tf.where in 2.0, which has the same broadcast rule as np.where\n",
      "WARNING:tensorflow:From /home/bhuwan/Desktop/deep_sort_yolov3-master-master/tools/generate_detections.py:75: The name tf.Session is deprecated. Please use tf.compat.v1.Session instead.\n",
      "\n",
      "WARNING:tensorflow:From /home/bhuwan/Desktop/deep_sort_yolov3-master-master/tools/generate_detections.py:76: The name tf.gfile.GFile is deprecated. Please use tf.io.gfile.GFile instead.\n",
      "\n",
      "WARNING:tensorflow:From /home/bhuwan/Desktop/deep_sort_yolov3-master-master/tools/generate_detections.py:77: The name tf.GraphDef is deprecated. Please use tf.compat.v1.GraphDef instead.\n",
      "\n",
      "WARNING:tensorflow:From /home/bhuwan/Desktop/deep_sort_yolov3-master-master/tools/generate_detections.py:80: The name tf.get_default_graph is deprecated. Please use tf.compat.v1.get_default_graph instead.\n",
      "\n",
      "WARNING:tensorflow:From /home/bhuwan/anaconda3/envs/torch/lib/python3.7/site-packages/keras/backend/tensorflow_backend.py:422: The name tf.global_variables is deprecated. Please use tf.compat.v1.global_variables instead.\n",
      "\n"
     ]
    }
   ],
   "source": [
    "\n",
    "model_path = '/home/bhuwan/Desktop/video/model.h5'\n",
    "model = models.load_model(model_path,backbone_name='resnet50')\n",
    "pedestrian_tracking(model)\n"
   ]
  },
  {
   "cell_type": "code",
   "execution_count": null,
   "metadata": {},
   "outputs": [],
   "source": []
  }
 ],
 "metadata": {
  "kernelspec": {
   "display_name": "Python 3",
   "language": "python",
   "name": "python3"
  },
  "language_info": {
   "codemirror_mode": {
    "name": "ipython",
    "version": 3
   },
   "file_extension": ".py",
   "mimetype": "text/x-python",
   "name": "python",
   "nbconvert_exporter": "python",
   "pygments_lexer": "ipython3",
   "version": "3.7.5"
  }
 },
 "nbformat": 4,
 "nbformat_minor": 2
}
